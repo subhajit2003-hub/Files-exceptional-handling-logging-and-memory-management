{
  "nbformat": 4,
  "nbformat_minor": 0,
  "metadata": {
    "colab": {
      "provenance": []
    },
    "kernelspec": {
      "name": "python3",
      "display_name": "Python 3"
    },
    "language_info": {
      "name": "python"
    }
  },
  "cells": [
    {
      "cell_type": "markdown",
      "source": [
        "# Files, exceptional handling, logging and    \n",
        "## memory management (THEORY)"
      ],
      "metadata": {
        "id": "tCymS5RjUaoK"
      }
    },
    {
      "cell_type": "markdown",
      "source": [
        "1. What is the difference between interpreted and compiled languages?\n",
        "-> Compiled Languages\n",
        "In compiled languages, the entire source code is translated into machine code by a compiler before execution. This process produces an executable file specific to the target system.\n",
        "* Execution: The compiled machine code runs directly on the hardware.\n",
        "* Performance: Typically faster, as the translation is done beforehand.\n",
        "* Portability: Less portable; executables are platform-specific.\n",
        "* Debugging: Errors are caught at compile-time, but debugging can be more  complex.\n",
        "Examples: C, C++, Rust, Go\n",
        " Interpreted Languages\n",
        "Interpreted languages are executed line-by-line by an interpreter at runtime, without a separate compilation step.\n",
        "* Execution: The interpreter reads and executes code directly.\n",
        "* Performance: Generally slower due to real-time interpretation.\n",
        "* Portability: Highly portable; code can run on any system with the appropriate interpreter.\n",
        "* Debugging: Easier, as errors are reported during execution.\n",
        "Examples: Python, JavaScript, Ruby, PHP"
      ],
      "metadata": {
        "id": "G9IbGxdhXS9h"
      }
    },
    {
      "cell_type": "markdown",
      "source": [
        "2.What is exception handling in Python?\n",
        "-> Exception handling in Python is a structured way to detect, manage, and  recover from errors that occur while a program is running. It ensures your program doesn't simply crash when something unexpected happens."
      ],
      "metadata": {
        "id": "HxDLduQ1YOnX"
      }
    },
    {
      "cell_type": "markdown",
      "source": [
        "3.What is the purpose of the finally block in exception handling?\n",
        "-> n Python, the finally block in a try/except structure ensures that cleanup or essential code always runs, regardless of what happens in the try or except blocks:\n",
        "Key Purposes of finally\n",
        "Guaranteed Execution\n",
        "It always executes—whether:\n",
        "An exception is caught\n",
        "An exception is uncaught\n",
        "A return, break, or continue occurs in the try or exces\n",
        "Resource Cleanup\n",
        "Ideal for closing files, network connections, releasing locks, freeing resources, etc., to avoid leaks or leaving things in an inconsistent state\n",
        "Consistent Behavior Across Flows\n",
        "Even if the except block re-raises another exception\n",
        "Or if the code within try performs a return\n",
        "The finally block still runs before the function exits or propagation happens"
      ],
      "metadata": {
        "id": "n67zOZgGYd6n"
      }
    },
    {
      "cell_type": "markdown",
      "source": [
        "4. What is logging in Python?\n",
        "-> In Python, logging is the practice of recording messages during your program’s execution to track key events, errors, and system behavior. Rather than using print(), the logging module provides a robust, configurable, and scalable framework for tracing and monitoring your code."
      ],
      "metadata": {
        "id": "S0b5OfIBZs2p"
      }
    },
    {
      "cell_type": "markdown",
      "source": [
        "5.What is the significance of the __del__ method in Python?\n",
        "-> In Python, the __del__ method serves as a finalizer—similar in concept to a destructor in languages like C++, but with non-deterministic timing and important caveats:\n",
        "\n",
        "* Cleanup before destruction:- Called when an object is about to be garbage-collected—i.e., when no more references to it remain—enabling cleanup of external resources like file handles or network connections.\n",
        "* Often called a finalizer, not a true destructor—Python’s garbage collector, not __del__, controls when the object is actually destroyed ."
      ],
      "metadata": {
        "id": "zZcv7TUEZ-Co"
      }
    },
    {
      "cell_type": "markdown",
      "source": [
        "6. What is the difference between import and from ... import in Python?\n",
        "-> n Python, import and from ... import both bring external code into your program—but how much you import and how you access it differs significantly:\n",
        "\n",
        "* import module:-\n",
        "Imports the entire module and binds it to a name in your namespace.\n",
        "Access items through the module:\n",
        "Keeps your namespace clean and shows exactly what module each item comes from (e.g., math.sqrt)\n",
        "* from module import name\n",
        "Imports specific attributes or functions from a module directly into your namespace.\n",
        "You access them without the module qualifier:\n",
        "The module itself (math) is not bound, only the items you imported.\n",
        "\n",
        "\n"
      ],
      "metadata": {
        "id": "7SMaNfIQaxxg"
      }
    },
    {
      "cell_type": "markdown",
      "source": [
        "7. How can you handle multiple exceptions in Python?\n",
        "-> In Python, you have two main ways to handle multiple exceptions in a single try block:\n",
        "\n",
        "1. Separate except blocks for each exception\n",
        "2. Single except catching multiple exceptions"
      ],
      "metadata": {
        "id": "7PM35o-7cI6v"
      }
    },
    {
      "cell_type": "markdown",
      "source": [
        "8. What is the purpose of the with statement when handling files in Python?\n",
        "-> When handling files in Python, the with statement provides a clean, safe, and reliable way to manage resources—particularly file objects—via the context management protocol. Here's why it's significant:\n",
        "1. Automatic Resource Cleanup\n",
        "2. Simplifies Code and Improves Readability\n",
        "3. Handles Exceptions Gracefully\n",
        "4. Leverages Context Managers Beyond Files"
      ],
      "metadata": {
        "id": "OtKweXb2cl32"
      }
    },
    {
      "cell_type": "markdown",
      "source": [
        "9. What is the difference between multithreading and multiprocessing?\n",
        "-> Here’s a refined breakdown of the key differences between multithreading and multiprocessing in Python:\n",
        "Multithreading\n",
        "Definition: Multiple lightweight threads within a single process that share the same memory space and Python interpreter\n",
        "Concurrency, not parallelism: Due to the Global Interpreter Lock (GIL), only one thread executes Python bytecode at a time—still beneficial when threads spend time waiting (e.g., for I/O) .\n",
        "Best for: I/O-bound tasks like file access, network requests, and GUI interactions\n",
        "Pros:\n",
        "Lower memory and creation overhead\n",
        "Fast context switching\n",
        "Simple data sharing (threads can read/write shared variables)\n",
        "Cons:\n",
        "GIL prevents CPU-bound performance gains\n",
        "Requires careful synchronization to avoid race conditions or deadlocks.\n",
        "\n",
        "Multiprocessing\n",
        "Definition: Multiple independent processes, each with its own Python interpreter and memory space—and its own GIL\n",
        "True parallelism: Utilizes multiple cores for concurrent execution, bypassing GIL limitations\n",
        "python\n",
        "Best for: CPU-bound tasks that require heavy computation—parallel processing improves performance significantly\n",
        "Pros:\n",
        "Real parallel execution across cores\n",
        "Better fault isolation (a crash in one process doesn't kill others)\n",
        "Higher memory and startup overhead\n",
        "Data sharing requires explicit IPC (queues, pipes, shared memory)\n",
        "Serialization (via pickle) introduces overhead."
      ],
      "metadata": {
        "id": "TKiwsYXLdMbP"
      }
    },
    {
      "cell_type": "markdown",
      "source": [
        "10. What are the advantages of using logging in a program?\n",
        "-> Here are the key advantages of using the logging module over print() in your programs:\n",
        "1. Message Severity Levels\n",
        "2. Runtime Configurability & Control\n",
        "3. Multiple Output Destinations\n",
        "4. Structured & Rich Formatting\n",
        "5. Scalability for Large Projects\n",
        "6. Thread-Safe & Efficient\n",
        "7. Maintains Clean Code, Avoids “Clutter”\n",
        "8. Persistence & Retention\n",
        "9. Searchable Log Records"
      ],
      "metadata": {
        "id": "J0FTLazoeYgZ"
      }
    },
    {
      "cell_type": "markdown",
      "source": [
        "11. What is memory management in Python?\n",
        "-> Python’s memory management is an automated system that ensures efficient use and cleanup of memory during program execution."
      ],
      "metadata": {
        "id": "dV6bXmhYgAgj"
      }
    },
    {
      "cell_type": "markdown",
      "source": [
        "12.What are the basic steps involved in exception handling in Python?\n",
        "-> The basic steps in exception handling in Python involve a structured flow using try, except, else, and finally. Here’s how it works:\n",
        "1. try Block\n",
        "Place the code that might raise an exception inside a try. If no exception occurs, execution continues to else (if provided) or continues after the whole construct.\n",
        "2. except Block(s)\n",
        "This block catches and handles specific exceptions raised in try. You can have multiple except blocks to handle different exceptions distinctly:\n",
        "3. else Block (Optional)\n",
        "Runs only if the try block succeeds (i.e., no exceptions occur). Typically used to execute code that should run when everything goes well.\n",
        "4. finally Block (Optional)\n",
        "Always executes—regardless of whether an exception was raised, handled, unhandled, or even if there was a return inside try or except. Usually for cleanup tasks, like closing resources."
      ],
      "metadata": {
        "id": "F_5rZUcBgNrI"
      }
    },
    {
      "cell_type": "markdown",
      "source": [
        "13. Why is memory management important in Python?\n",
        "-> Memory management in Python is crucial because it ensures that your program runs efficiently, reliably, and scalably, especially as complexity grows."
      ],
      "metadata": {
        "id": "jb778i71g0va"
      }
    },
    {
      "cell_type": "markdown",
      "source": [
        "14. What is the role of try and except in exception handling?\n",
        "-> n Python, the try and except blocks form the core of exception handling:\n",
        "1. try Block\n",
        "Encapsulates risky code: You place statements that might raise errors (exceptions) inside try.\n",
        "Execution flow:\n",
        "Python runs each line sequentially.\n",
        "If no exception occurs, the except blocks are skipped.\n",
        "If an exception does occur, Python immediately stops executing the rest of the try block and looks for a matching except handler\n",
        "\n",
        "2. except Block(s)\n",
        "Define handlers for specific exception:\n",
        "Handlers are checked in order.\n",
        "The first matching handler executes.\n",
        "If none match, the exception propagates upward, potentially crashing the program\n",
        "Each except can optionally bind the exception to a variable for inspection:"
      ],
      "metadata": {
        "id": "AUXddjmNhHxK"
      }
    },
    {
      "cell_type": "markdown",
      "source": [
        "15. How does Python's garbage collection system work?\n",
        "-> Generational Garbage Collection\n",
        "Python uses a generational GC to clean up cyclic references.\n",
        "Objects are categorized into three generations based on age:\n",
        "Gen 0: new objects\n",
        "Gen 1: survivors of Gen 0\n",
        "Gen 2: survivors of Gen 1\n",
        "GC runs more frequently on younger generations, using a mark-and-sweep approach to identify unreachable cycles"
      ],
      "metadata": {
        "id": "IR5JzW7hhwe0"
      }
    },
    {
      "cell_type": "markdown",
      "source": [
        "16.What is the purpose of the else block in exception handling?\n",
        "-> In Python, the else block in a try/except construct serves as a clear and intentional place for code that should run only when no exceptions were raised in the try block.\n",
        "\n"
      ],
      "metadata": {
        "id": "mkKOQPwCiYhT"
      }
    },
    {
      "cell_type": "markdown",
      "source": [
        "17.What are the common logging levels in Python?\n",
        "-> Python’s built-in logging module defines standard log levels to indicate message severity and control output. Here's a breakdown:\n",
        "\n",
        "Standard Logging Levels (Ascending Severity)\n",
        "Level\tNumeric Value\tPurpose\n",
        "DEBUG\t   10\t   Detailed diagnostic information for debugging\n",
        "INFO\t   20\t   General events confirming everything is working\n",
        "WARNING\t 30\t   Potential issues or unexpected events\n",
        "ERROR\t   40\t   Serious problems—some functionality failed\n",
        "CRITICAL 50\t Very severe errors—system may be unusable\n",
        "NOTSET\t  0\t     Special default level used internally"
      ],
      "metadata": {
        "id": "MW8IlV-dix2K"
      }
    },
    {
      "cell_type": "markdown",
      "source": [
        "18.What is the difference between os.fork() and multiprocessing in Python?\n",
        "-> Here’s a clear comparison between Python’s low-level os.fork() and the higher-level multiprocessing module:\n",
        "os.fork()\n",
        "Direct use of OS fork (POSIX only—Linux/Unix).\n",
        "Creates a child process that is an exact copy of the parent’s memory and execution context at the fork point—including all variables, file descriptors, and even threads (though threads won’t be copied in multi-threaded programs)\n",
        "No support on Windows, and can lead to issues (deadlocks, corruption) if invoked after threads are started—meaning os.fork() is fragile in modern, threaded apps .\n",
        "Responsibility for error handling, resource cleanup, and IPC is left entirely to you.\n",
        "\n",
        "multiprocessing\n",
        "A cross-platform, high-level API that abstracts process creation, communication, and more via Process, Pool, Queue, etc.\n",
        "On POSIX systems, defaults to fork, but you can choose other start methods:\n",
        "fork: child inherits parent memory (fast but risky with threads)\n",
        "spawn: fresh interpreter starts a new process—safer, especially when threads or external libraries are involved—default on Windows/macOS\n",
        "forkserver: pre-forked server to spawn children cleanly\n",
        "Automatically handles IPC setup, clean startup, cross-platform differences, and avoids pitfalls of manually mixing fork with threads.\n",
        "\n"
      ],
      "metadata": {
        "id": "d356PQpPjebE"
      }
    },
    {
      "cell_type": "markdown",
      "source": [],
      "metadata": {
        "id": "3zZK29FOkO3o"
      }
    },
    {
      "cell_type": "markdown",
      "source": [
        "19. What is the importance of closing a file in Python?\n",
        "-> Closing a file in Python is more than just a clean-up gesture—it's essential for the reliability, efficiency, and correctness of your code. Here’s why it matters:\n",
        "\n",
        "1. Releases System Resources\n",
        "2. Ensures Data Integrity\n",
        "3. Avoids Locks & Access Conflicts\n",
        "4. Prevents File Descriptor Leaks\n",
        "5. Promotes Good Coding Practices\n"
      ],
      "metadata": {
        "id": "QNnb2_xLkV2O"
      }
    },
    {
      "cell_type": "markdown",
      "source": [
        "20. What is the difference between file.read() and file.readline() in Python?\n",
        "-> file.read(size=-1)\n",
        "Reads the entire file (or up to size bytes if provided) and returns it as one big string.\n",
        "Use a single I/O call, which is useful for regex operations or processing the entire content at once.\n",
        "Example use cases: whole-file processing, bulk transformations, large string operations.\n",
        "\n",
        "file.readline(size=-1)\n",
        "Reads exactly one line at a time (until \\n or end-of-file), returning it as a string.\n",
        "The file's internal pointer moves to the next line automatically. Good for incremental processing.\n",
        "You can optionally specify size to read only part of the line.\n",
        "Example use cases: parsing line by line, handling different parts of a file differently."
      ],
      "metadata": {
        "id": "8wrI3qifk-fR"
      }
    },
    {
      "cell_type": "markdown",
      "source": [
        "21.What is the logging module in Python used for?\n",
        "-> The logging module in Python's standard library is a flexible and scalable framework for tracking and reporting events during program execution. It’s far more powerful and configurable than using simple print() statements."
      ],
      "metadata": {
        "id": "9RiwmC0MlVXc"
      }
    },
    {
      "cell_type": "markdown",
      "source": [
        "22.What is the os module in Python used for in file handling?\n",
        "-> The os module in Python provides a portable interface to interact with the operating system, including fundamental file-handling and management capabilities. Here's how it helps with file operations:\n",
        "\n",
        "\n",
        "Low-level file operations\n",
        "os.open(), os.read(), os.write(), os.close() operate with file descriptors (integers), giving more direct control than Python’s built-in open()\n",
        "Offers flags like O_RDONLY, O_WRONLY, O_CREAT, O_TRUNC for custom behavior.\n",
        "\n",
        "* Directory and path manipulation\n",
        "os.getcwd() / os.chdir() to get or change the current working directory.\n",
        "os.listdir() fetches the names of files and subdirectories.\n",
        "\n",
        "* Creation & removal of files/directories\n",
        "os.mkdir() / os.makedirs() to create directories.\n",
        "os.remove(), os.rmdir(), os.removedirs() for deletion.\n",
        "os.rename() / os.replace() for renaming or moving files\n",
        "\n",
        "* File metadata & permissions\n",
        "os.stat() retrieves size, timestamps, permissions, etc.\n",
        "os.chmod() changes file permissions.\n",
        "os.path submodule helps check exists(), isfile(), isdir(), and get file sizes or modification times\n",
        "\n",
        "* Handling environment & processes\n",
        "os.environ, os.getenv() let you access environment variables.\n",
        "os.system(), os.exec*() allow running shell commands or executables"
      ],
      "metadata": {
        "id": "5pnL_8U1li4b"
      }
    },
    {
      "cell_type": "markdown",
      "source": [
        "23. What are the challenges associated with memory management in Python?\n",
        "-> Memory management in Python is mostly automatic, but it still poses several challenges that can lead to performance issues and memory leaks:\n",
        "1.  Unreleased References\n",
        "2.  Circular References\n",
        "3.  Global or Long-Lived Objects\n",
        "4.  Unclosed Resources\n",
        "5.  C Extension Issues\n",
        "6.  Memory Fragmentation\n",
        "7.  Garbage Collection Overhead"
      ],
      "metadata": {
        "id": "LQlXwzhQmhUr"
      }
    },
    {
      "cell_type": "markdown",
      "source": [
        "24. How do you raise an exception manually in Python?\n",
        "-> 1. Raise with a built-in exception\n",
        "raise ValueError(\"Invalid input: expected a number\")\n",
        "You can raise using either:\n",
        "An exception instance (with a message), or\n",
        "The exception class itself (raise ValueError), which implicitly creates an instance\n",
        "\n",
        "2. Raise custom exceptions\n",
        "Define your own exception by subclassing from Exception, then raise it as needed:\n"
      ],
      "metadata": {
        "id": "dl-PnSRCnRbU"
      }
    },
    {
      "cell_type": "markdown",
      "source": [
        "25.Why is it important to use multithreading in certain applications?\n",
        "-> Using multithreading in certain applications is crucial for improving responsiveness, efficiency, and structure, particularly in scenarios involving user interaction, I/O, or real-time processing:\n",
        "1. Improved Responsiveness\n",
        "In GUI apps, web servers, or client programs, long-running tasks in the main thread can freeze the interface or block service. With multithreading, heavy operations (e.g., downloads, database calls) move to background threads, keeping the application responsive:\n",
        "2. Better I/O Handling & Resource Utilization\n",
        "I/O-bound tasks (network requests, disk access) spend time waiting. Threads let other tasks run during these waits, eliminating idle CPU time:\n",
        "Threads automatically release the GIL during I/O, boosting throughput\n",
        "Servers can handle multiple connections simultaneously rather than serially .\n",
        "3. Efficient Multicore & Multiprocessor Use\n",
        "On systems with multiple cores, threads can run in parallel—using hardware resources more fully:\n",
        "Makes apps scalable as CPU cores increase\n",
        "Enhances throughput and performance in data-heavy or concurrent tasks\n",
        "4. Cleaner Program Structure\n",
        "Functions or tasks that are conceptually independent—like handling user input, logging, processing—can run on separate threads. This leads to cleaner, more modular code:\n",
        "\n",
        "“Many programs are more efficiently structured as multiple independent… units of execution”"
      ],
      "metadata": {
        "id": "qg_XEeV_n4AP"
      }
    },
    {
      "cell_type": "markdown",
      "source": [
        "       **practical**"
      ],
      "metadata": {
        "id": "MgmLLjjgovei"
      }
    },
    {
      "cell_type": "markdown",
      "source": [
        "1. How can you open a file for writing in Python and write a string to it?"
      ],
      "metadata": {
        "id": "ZXe25cR6o3tH"
      }
    },
    {
      "cell_type": "code",
      "source": [
        "f = open(\"output.txt\", \"w\", encoding=\"utf-8\")\n",
        "f.write(\"Hello, world!\\n\")\n",
        "f.close()\n"
      ],
      "metadata": {
        "id": "PHDuSGhopWgJ"
      },
      "execution_count": 2,
      "outputs": []
    },
    {
      "cell_type": "markdown",
      "source": [
        "2."
      ],
      "metadata": {
        "id": "rFrMm-Eapg2l"
      }
    },
    {
      "cell_type": "markdown",
      "source": [
        "3. How would you handle a case where the file doesn't exist while trying to open it for reading."
      ],
      "metadata": {
        "id": "KoMiT15ursog"
      }
    },
    {
      "cell_type": "code",
      "source": [
        "def read_file(filename):\n",
        "    try:\n",
        "        with open(filename, 'r', encoding='utf-8') as f:\n",
        "            for line in f:\n",
        "                print(line, end='')\n",
        "    except FileNotFoundError:\n",
        "        print(f\"Error: The file '{filename}' was not found.\")\n",
        "    except OSError as e:\n",
        "        # Catches other I/O-related issues, e.g., permission denied\n",
        "        print(f\"OS error occurred while opening '{filename}': {e}\")\n",
        "    else:\n",
        "        print(\"\\n[Done reading file]\")\n"
      ],
      "metadata": {
        "id": "muQXIEfOsCe2"
      },
      "execution_count": 8,
      "outputs": []
    },
    {
      "cell_type": "markdown",
      "source": [
        "4. Write a Python script that reads from one file and writes its content to another file."
      ],
      "metadata": {
        "id": "HfMPd6pqsFyO"
      }
    },
    {
      "cell_type": "code",
      "source": [
        "import shutil\n",
        "try:\n",
        "    shutil.copyfile('first.txt', 'second.txt')\n",
        "    print(\"Copy successful.\")\n",
        "except FileNotFoundError:\n",
        "    print(\"Source file not found.\")\n",
        "except OSError as e:\n",
        "    print(f\"I/O error: {e}\")\n"
      ],
      "metadata": {
        "colab": {
          "base_uri": "https://localhost:8080/"
        },
        "id": "vqUZV9GBsfVJ",
        "outputId": "2c330d78-9632-4172-b0fe-29a38487cccc"
      },
      "execution_count": 9,
      "outputs": [
        {
          "output_type": "stream",
          "name": "stdout",
          "text": [
            "Source file not found.\n"
          ]
        }
      ]
    },
    {
      "cell_type": "markdown",
      "source": [
        "5. How would you catch and handle division by zero error in Python"
      ],
      "metadata": {
        "id": "kvdVzj3-sl9f"
      }
    },
    {
      "cell_type": "code",
      "source": [
        "def divide(a, b):\n",
        "    try:\n",
        "        result = a / b\n",
        "    except ZeroDivisionError:\n",
        "        print(\"Error: Cannot divide by zero!\")\n",
        "        return None  # or handle gracefully\n",
        "    else:\n",
        "        return result\n",
        "print(divide(10, 2))\n",
        "print(divide(10, 0))\n"
      ],
      "metadata": {
        "colab": {
          "base_uri": "https://localhost:8080/"
        },
        "id": "cenhQ9_6sv_K",
        "outputId": "83b97281-9901-4e0c-91be-2148448b0d75"
      },
      "execution_count": 10,
      "outputs": [
        {
          "output_type": "stream",
          "name": "stdout",
          "text": [
            "5.0\n",
            "Error: Cannot divide by zero!\n",
            "None\n"
          ]
        }
      ]
    },
    {
      "cell_type": "markdown",
      "source": [
        "6.Write a Python program that logs an error message to a log file when a division by zero exception occurs."
      ],
      "metadata": {
        "id": "--MNl0aqtGT8"
      }
    },
    {
      "cell_type": "code",
      "source": [
        "import logging\n",
        "logging.basicConfig(\n",
        "    filename='app.log',\n",
        "    filemode='a',\n",
        "    level=logging.ERROR,\n",
        "    format='%(asctime)s - %(levelname)s - %(message)s'\n",
        ")\n",
        "def safe_divide(a, b):\n",
        "    try:\n",
        "        return a / b\n",
        "    except ZeroDivisionError:\n",
        "        logging.error(f\"Division by zero: attempted {a}/{b}\", exc_info=True)\n",
        "        return None\n",
        "if __name__ == \"__main__\":\n",
        "    print(\"Result:\", safe_divide(10, 2))\n",
        "    print(\"Result:\", safe_divide(10, 0))\n"
      ],
      "metadata": {
        "colab": {
          "base_uri": "https://localhost:8080/"
        },
        "id": "MpZmX8QntdOx",
        "outputId": "72b5f0fd-a1f5-4861-98cf-f2795ef392f7"
      },
      "execution_count": 11,
      "outputs": [
        {
          "output_type": "stream",
          "name": "stderr",
          "text": [
            "ERROR:root:Division by zero: attempted 10/0\n",
            "Traceback (most recent call last):\n",
            "  File \"/tmp/ipython-input-11-3252394416.py\", line 10, in safe_divide\n",
            "    return a / b\n",
            "           ~~^~~\n",
            "ZeroDivisionError: division by zero\n"
          ]
        },
        {
          "output_type": "stream",
          "name": "stdout",
          "text": [
            "Result: 5.0\n",
            "Result: None\n"
          ]
        }
      ]
    },
    {
      "cell_type": "markdown",
      "source": [
        "7. How do you log information at different levels (INFO, ERROR, WARNING) in Python using the logging module."
      ],
      "metadata": {
        "id": "JzeJ_aDEtrm5"
      }
    },
    {
      "cell_type": "code",
      "source": [
        "import logging\n",
        "logging.basicConfig(\n",
        "    level=logging.INFO,\n",
        "    format=\"%(asctime)s %(levelname)s [%(name)s] %(message)s\")\n",
        "logger = logging.getLogger(__name__)\n"
      ],
      "metadata": {
        "id": "i2hT2aFhuORx"
      },
      "execution_count": 14,
      "outputs": []
    },
    {
      "cell_type": "markdown",
      "source": [
        "8.Write a program to handle a file opening error using exception handling?"
      ],
      "metadata": {
        "id": "QDpX5GcZuo37"
      }
    },
    {
      "cell_type": "code",
      "source": [
        "if __name__ == \"__main__\":\n",
        "    read_file(\"existing.txt\")\n",
        "    read_file(\"missing.txt\")\n",
        "    read_file(\"/restricted.txt\")\n"
      ],
      "metadata": {
        "colab": {
          "base_uri": "https://localhost:8080/"
        },
        "id": "425Ar8auu63H",
        "outputId": "2fa9d25d-a991-4d0c-ef3d-3f91a191a3a4"
      },
      "execution_count": 15,
      "outputs": [
        {
          "output_type": "stream",
          "name": "stdout",
          "text": [
            "Error: The file 'existing.txt' was not found.\n",
            "Error: The file 'missing.txt' was not found.\n",
            "Error: The file '/restricted.txt' was not found.\n"
          ]
        }
      ]
    },
    {
      "cell_type": "markdown",
      "source": [
        "9. How can you read a file line by line and store its content in a list in Python?"
      ],
      "metadata": {
        "id": "OSyOLmcWvE_I"
      }
    },
    {
      "cell_type": "markdown",
      "source": [
        "10. How can you append data to an existing file in Python?\n"
      ],
      "metadata": {
        "id": "7K1Aie8UhPdS"
      }
    },
    {
      "cell_type": "code",
      "source": [
        "def append_to_file(filename, text):\n",
        "    with open(filename, \"a\", encoding=\"utf-8\") as f:\n",
        "        f.write(text)\n",
        "\n",
        "if __name__ == \"__main__\":\n",
        "    # Appending a single line\n",
        "    append_to_file(\"notes.txt\", \"Here is some new information.\\n\")\n",
        "\n",
        "    # Appending multiple lines\n",
        "    lines = [\"Line 1\\n\", \"Line 2\\n\", \"Line 3\\n\"]\n",
        "    for line in lines:\n",
        "        append_to_file(\"notes.txt\", line)\n"
      ],
      "metadata": {
        "id": "2iPF4y4-h6Us"
      },
      "execution_count": 1,
      "outputs": []
    },
    {
      "cell_type": "markdown",
      "source": [
        "11. Write a Python program that uses a try-except block to handle an error when attempting to access a\n",
        "dictionary key that doesn't exist"
      ],
      "metadata": {
        "id": "X159DYZDiKyh"
      }
    },
    {
      "cell_type": "code",
      "source": [
        "def get_value(d, key):\n",
        "    try:\n",
        "        value = d[key]\n",
        "    except KeyError:\n",
        "        print(f\"Error: Key '{key}' not found in dictionary.\")\n",
        "        return None\n",
        "    else:\n",
        "        return value\n",
        "if __name__ == \"__main__\":\n",
        "    data = {'name': 'subhajit', 'age': 30}\n",
        "    print(get_value(data, 'age'))     # Outputs: 30\n",
        "    print(get_value(data, 'address')) # Handles missing key gracefully\n"
      ],
      "metadata": {
        "colab": {
          "base_uri": "https://localhost:8080/"
        },
        "id": "J5s8VAMyiNPJ",
        "outputId": "2916f8f0-9a20-4e1a-80d8-6c4106b8aa79"
      },
      "execution_count": 3,
      "outputs": [
        {
          "output_type": "stream",
          "name": "stdout",
          "text": [
            "30\n",
            "Error: Key 'address' not found in dictionary.\n",
            "None\n"
          ]
        }
      ]
    },
    {
      "cell_type": "markdown",
      "source": [
        "12.Write a program that demonstrates using multiple except blocks to handle different types of exceptions."
      ],
      "metadata": {
        "id": "0fVKY48Aiqny"
      }
    },
    {
      "cell_type": "code",
      "source": [
        "def process_input():\n",
        "    try:\n",
        "        data = input(\"Enter an integer to divide 100 by: \")\n",
        "        num = int(data)\n",
        "        result = 100 / num\n",
        "    except ValueError:\n",
        "        print(f\"Error: '{data}' is not a valid integer.\")\n",
        "    except ZeroDivisionError:\n",
        "        print(\"Error: Cannot divide by zero.\")\n",
        "    except Exception as e:\n",
        "        print(f\"Unexpected error: {e}\")\n",
        "    else:\n",
        "        print(f\"Success! 100 / {num} = {result}\")\n",
        "if __name__ == \"__main__\":\n",
        "    process_input()\n"
      ],
      "metadata": {
        "colab": {
          "base_uri": "https://localhost:8080/"
        },
        "id": "_U77sWRwi2Yl",
        "outputId": "d5296d1e-a3f1-4986-bbb3-1e6a6366cd46"
      },
      "execution_count": 4,
      "outputs": [
        {
          "output_type": "stream",
          "name": "stdout",
          "text": [
            "Enter an integer to divide 100 by: 50\n",
            "Success! 100 / 50 = 2.0\n"
          ]
        }
      ]
    },
    {
      "cell_type": "markdown",
      "source": [
        "13. How would you check if a file exists before attempting to read it in python?"
      ],
      "metadata": {
        "id": "k5mYxidljEtG"
      }
    },
    {
      "cell_type": "code",
      "source": [
        "import os\n",
        "\n",
        "filename = \"data.txt\"\n",
        "if os.path.isfile(filename):          # checks if it's a file\n",
        "    with open(filename, 'r', encoding='utf-8') as f:\n",
        "        # ... read or process file ...\n",
        "       pass\n",
        "else:\n",
        "    print(f\"File '{filename}' does not exist.\")\n"
      ],
      "metadata": {
        "colab": {
          "base_uri": "https://localhost:8080/"
        },
        "id": "p_XXZ9m-jflL",
        "outputId": "7f2bf54b-479a-4e48-9f45-e8bb3462034b"
      },
      "execution_count": 5,
      "outputs": [
        {
          "output_type": "stream",
          "name": "stdout",
          "text": [
            "File 'data.txt' does not exist.\n"
          ]
        }
      ]
    },
    {
      "cell_type": "markdown",
      "source": [
        "14. Write a program that uses the logging module to log both informational and error messages?"
      ],
      "metadata": {
        "id": "sHCbI5NLjoNV"
      }
    },
    {
      "cell_type": "code",
      "source": [
        "import logging\n",
        "logging.basicConfig(\n",
        "    level=logging.INFO,\n",
        "    format=\"%(asctime)s | %(levelname)-7s | %(message)s\",\n",
        "    datefmt=\"%Y-%m-%d %H:%M:%S\"\n",
        ")\n",
        "logger = logging.getLogger(__name__)\n",
        "\n",
        "def divide_and_log(a, b):\n",
        "    logger.info(f\"Attempting to divide {a} by {b}\")\n",
        "    try:\n",
        "        result = a / b\n",
        "    except ZeroDivisionError:\n",
        "        logger.error(f\"Division by zero: {a} / {b}\", exc_info=True)\n",
        "        return None\n",
        "    else:\n",
        "        logger.info(f\"Division successful: result = {result}\")\n",
        "        return result\n",
        "\n",
        "if __name__ == \"__main__\":\n",
        "    # Example 1: Successful division (INFO only)\n",
        "    divide_and_log(100, 5)\n",
        "\n",
        "    # Example 2: Division by zero, triggers ERROR log (with traceback)\n",
        "    divide_and_log(10, 0)\n",
        "\n",
        "    # Example 3: Misc warning demonstration\n",
        "    logger.warning(\"This is a warning—check your inputs!\")\n"
      ],
      "metadata": {
        "colab": {
          "base_uri": "https://localhost:8080/"
        },
        "id": "I2T2Ynn2j845",
        "outputId": "db29551d-2c2a-4fd7-ff3f-ca61a22e14aa"
      },
      "execution_count": 6,
      "outputs": [
        {
          "output_type": "stream",
          "name": "stderr",
          "text": [
            "ERROR:__main__:Division by zero: 10 / 0\n",
            "Traceback (most recent call last):\n",
            "  File \"/tmp/ipython-input-6-2460021086.py\", line 12, in divide_and_log\n",
            "    result = a / b\n",
            "             ~~^~~\n",
            "ZeroDivisionError: division by zero\n",
            "WARNING:__main__:This is a warning—check your inputs!\n"
          ]
        }
      ]
    },
    {
      "cell_type": "markdown",
      "source": [
        "15. Write a Python program that prints the content of a file and handles the case when the file is empty."
      ],
      "metadata": {
        "id": "5L3p5RetkFmC"
      }
    },
    {
      "cell_type": "code",
      "source": [
        "import os\n",
        "def print_file_content(filename):\n",
        "    try:\n",
        "        # Check if file exists and is non-empty\n",
        "        if os.path.getsize(filename) == 0:\n",
        "            print(f\"File '{filename}' is empty.\")\n",
        "            return\n",
        "\n",
        "        with open(filename, 'r', encoding='utf-8') as f:\n",
        "            for line in f:\n",
        "                print(line, end='')\n",
        "    except FileNotFoundError:\n",
        "        print(f\"Error: File '{filename}' not found.\")\n",
        "    except OSError as e:\n",
        "        print(f\"Error accessing '{filename}': {e}\")\n",
        "\n",
        "if __name__ == \"__main__\":\n",
        "    print_file_content(\"example.txt\")\n"
      ],
      "metadata": {
        "colab": {
          "base_uri": "https://localhost:8080/"
        },
        "id": "dkLYjiL3kTnH",
        "outputId": "bdb0cf6c-9154-4074-d98b-4ed17c7a2b63"
      },
      "execution_count": 7,
      "outputs": [
        {
          "output_type": "stream",
          "name": "stdout",
          "text": [
            "Error: File 'example.txt' not found.\n"
          ]
        }
      ]
    },
    {
      "cell_type": "markdown",
      "source": [
        "16.Demonstrate how to use memory profiling to check the memory usage of a small program."
      ],
      "metadata": {
        "id": "Uqj_7cPDkdM2"
      }
    },
    {
      "cell_type": "markdown",
      "source": [
        "17. Write a Python program to create and write a list of numbers to a file, one number per line."
      ],
      "metadata": {
        "id": "MdT0_0JilA9X"
      }
    },
    {
      "cell_type": "code",
      "source": [
        "def write_numbers_to_file(numbers, filename):\n",
        "    \"\"\"\n",
        "    Writes each number from the 'numbers' list to 'filename',\n",
        "    one number per line.\n",
        "    \"\"\"\n",
        "    with open(filename, 'w', encoding='utf-8') as f:\n",
        "        for num in numbers:\n",
        "            f.write(f\"{num}\\n\")\n",
        "if __name__ == \"__main__\":\n",
        "    nums = [1, 2, 3, 4, 5]\n",
        "    write_numbers_to_file(nums, \"numbers.txt\")\n",
        "    print(\"Numbers have been written to 'numbers.txt'\")\n"
      ],
      "metadata": {
        "colab": {
          "base_uri": "https://localhost:8080/"
        },
        "id": "PeO4UpWslQEe",
        "outputId": "3a2dd5bc-c293-4f22-df65-f5132c6d3844"
      },
      "execution_count": 12,
      "outputs": [
        {
          "output_type": "stream",
          "name": "stdout",
          "text": [
            "Numbers have been written to 'numbers.txt'\n"
          ]
        }
      ]
    },
    {
      "cell_type": "markdown",
      "source": [
        "18. How would you implement a basic logging setup that logs to a file with rotation after 1MB"
      ],
      "metadata": {
        "id": "nNimQunvlU6M"
      }
    }
  ]
}